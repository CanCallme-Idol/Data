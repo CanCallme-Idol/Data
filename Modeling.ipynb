{
 "cells": [
  {
   "cell_type": "code",
   "execution_count": 1,
   "metadata": {
    "id": "UnM6ulszUJ2n"
   },
   "outputs": [],
   "source": [
    "import os\n",
    "import numpy as np\n",
    "import pandas as pd\n",
    "from pathlib import Path\n",
    "import cv2\n",
    "import tqdm\n",
    "import matplotlib.pyplot as plt\n",
    "import timm\n",
    "#torch\n",
    "import torch\n",
    "import math\n",
    "import torch\n",
    "import torch.nn as nn\n",
    "from torch.nn import Parameter\n",
    "from torch.nn import functional as F\n",
    "from torch.utils.data import Dataset,DataLoader\n",
    "from torch.optim import Adam\n",
    "from torch.optim.lr_scheduler import CosineAnnealingWarmRestarts, CosineAnnealingLR, ReduceLROnPlateau\n",
    "from torch.optim import Adam, lr_scheduler\n",
    "from torch.optim.lr_scheduler import _LRScheduler"
   ]
  },
  {
   "cell_type": "markdown",
   "metadata": {
    "id": "8hp_QdJuZz7W"
   },
   "source": [
    "#모델링 코드"
   ]
  },
  {
   "cell_type": "code",
   "execution_count": 2,
   "metadata": {
    "id": "1onAmJNhFAya"
   },
   "outputs": [
    {
     "data": {
      "text/html": [
       "<div>\n",
       "<style scoped>\n",
       "    .dataframe tbody tr th:only-of-type {\n",
       "        vertical-align: middle;\n",
       "    }\n",
       "\n",
       "    .dataframe tbody tr th {\n",
       "        vertical-align: top;\n",
       "    }\n",
       "\n",
       "    .dataframe thead th {\n",
       "        text-align: right;\n",
       "    }\n",
       "</style>\n",
       "<table border=\"1\" class=\"dataframe\">\n",
       "  <thead>\n",
       "    <tr style=\"text-align: right;\">\n",
       "      <th></th>\n",
       "      <th>img</th>\n",
       "      <th>labels</th>\n",
       "    </tr>\n",
       "  </thead>\n",
       "  <tbody>\n",
       "    <tr>\n",
       "      <th>0</th>\n",
       "      <td>yg/rose/rose_3_isolate.jpg</td>\n",
       "      <td>yg</td>\n",
       "    </tr>\n",
       "    <tr>\n",
       "      <th>1</th>\n",
       "      <td>yg/rose/rose_2_isolate.jpg</td>\n",
       "      <td>yg</td>\n",
       "    </tr>\n",
       "    <tr>\n",
       "      <th>2</th>\n",
       "      <td>yg/rose/rose_1_isolate.jpg</td>\n",
       "      <td>yg</td>\n",
       "    </tr>\n",
       "    <tr>\n",
       "      <th>3</th>\n",
       "      <td>yg/rose/rose_5_isolate.jpg</td>\n",
       "      <td>yg</td>\n",
       "    </tr>\n",
       "    <tr>\n",
       "      <th>4</th>\n",
       "      <td>yg/rose/rose_4_isolate.jpg</td>\n",
       "      <td>yg</td>\n",
       "    </tr>\n",
       "    <tr>\n",
       "      <th>...</th>\n",
       "      <td>...</td>\n",
       "      <td>...</td>\n",
       "    </tr>\n",
       "    <tr>\n",
       "      <th>2897</th>\n",
       "      <td>sm/irin/irin_121_isolate.jpg</td>\n",
       "      <td>sm</td>\n",
       "    </tr>\n",
       "    <tr>\n",
       "      <th>2898</th>\n",
       "      <td>sm/irin/irin_124_isolate.jpg</td>\n",
       "      <td>sm</td>\n",
       "    </tr>\n",
       "    <tr>\n",
       "      <th>2899</th>\n",
       "      <td>sm/irin/irin_126_isolate.jpg</td>\n",
       "      <td>sm</td>\n",
       "    </tr>\n",
       "    <tr>\n",
       "      <th>2900</th>\n",
       "      <td>sm/irin/irin_138_isolate.jpg</td>\n",
       "      <td>sm</td>\n",
       "    </tr>\n",
       "    <tr>\n",
       "      <th>2901</th>\n",
       "      <td>sm/irin/irin_137_isolate.jpg</td>\n",
       "      <td>sm</td>\n",
       "    </tr>\n",
       "  </tbody>\n",
       "</table>\n",
       "<p>2902 rows × 2 columns</p>\n",
       "</div>"
      ],
      "text/plain": [
       "                               img labels\n",
       "0       yg/rose/rose_3_isolate.jpg     yg\n",
       "1       yg/rose/rose_2_isolate.jpg     yg\n",
       "2       yg/rose/rose_1_isolate.jpg     yg\n",
       "3       yg/rose/rose_5_isolate.jpg     yg\n",
       "4       yg/rose/rose_4_isolate.jpg     yg\n",
       "...                            ...    ...\n",
       "2897  sm/irin/irin_121_isolate.jpg     sm\n",
       "2898  sm/irin/irin_124_isolate.jpg     sm\n",
       "2899  sm/irin/irin_126_isolate.jpg     sm\n",
       "2900  sm/irin/irin_138_isolate.jpg     sm\n",
       "2901  sm/irin/irin_137_isolate.jpg     sm\n",
       "\n",
       "[2902 rows x 2 columns]"
      ]
     },
     "execution_count": 2,
     "metadata": {},
     "output_type": "execute_result"
    }
   ],
   "source": [
    "data = pd.read_csv('data.csv')\n",
    "data=data.iloc[:,2:]\n",
    "data"
   ]
  },
  {
   "cell_type": "code",
   "execution_count": 3,
   "metadata": {
    "id": "nIl253DUGCFR"
   },
   "outputs": [],
   "source": [
    "n_classes = len(set(data['labels']))\n",
    "labels_lut = {i:num for num,i in enumerate(set(data['labels']))}"
   ]
  },
  {
   "cell_type": "code",
   "execution_count": 4,
   "metadata": {
    "id": "IHkTLTbHFJEp"
   },
   "outputs": [],
   "source": [
    "from sklearn.model_selection import StratifiedKFold\n",
    "import matplotlib.pyplot as plt\n",
    "import numpy as np\n",
    "import cv2\n",
    "n_iter=0\n",
    "skf = StratifiedKFold(n_splits=5)\n",
    "for train_index, test_index in skf.split(data['img'], data['labels']):\n",
    "            #print(n_iter)\n",
    "            n_iter+=1\n",
    "            #print(train_index)\n",
    "            #print(test_index)\n",
    "import os\n",
    "import torch\n",
    "from PIL import Image\n",
    "from torch.utils.data import Dataset\n",
    "\n",
    "class PlantPathologyDataset(Dataset):\n",
    "    def __init__(\n",
    "        self,\n",
    "        path_csv: str = 'data.csv',\n",
    "        mode: str = 'train',\n",
    "        transforms = None,\n",
    "        split: float = 0.8,\n",
    "    ):\n",
    "        self.transforms = transforms\n",
    "        self.mode = mode\n",
    "        self.data = pd.read_csv(path_csv)\n",
    "        labels_all = list( self.data['labels'])\n",
    "        self.labels_lut = labels_lut\n",
    "\n",
    "        # split dataset\n",
    "        self.data = self.data.sample(frac=1).reset_index(drop=True)\n",
    "        self.data = self.data.iloc[train_index] if self.mode == 'train' else self.data.iloc[test_index]\n",
    "        self.img_names = list(self.data['img'])\n",
    "        self.labels = list(self.data['labels'])\n",
    "    def num_classes():\n",
    "        return len(set(self.labels))\n",
    "    def to_one_hot(self, labels: str) -> tuple:\n",
    "        return int(self.labels_lut[labels])\n",
    "\n",
    "    def __getitem__(self, idx: int) -> tuple:\n",
    "        img_path = self.img_names[idx]\n",
    "        label = self.to_one_hot(self.labels[idx])\n",
    "        img = plt.imread(img_path)\n",
    "\n",
    "        # augmentation\n",
    "        if self.transforms:\n",
    "            img = self.transforms(Image.fromarray(img))\n",
    "        return img, torch.tensor(label)\n",
    "\n",
    "    def __len__(self) -> int:\n",
    "        return len(self.data)\n",
    "\n",
    "# ==============================\n",
    "# ==============================\n",
    "\n",
    "dataset = PlantPathologyDataset()\n",
    "# quick view\n",
    "# fig = plt.figure(figsize=(9, 6))\n",
    "# for i in range(9):\n",
    "#     img, lb = dataset[i]\n",
    "#     ax = fig.add_subplot(3, 3, i + 1, xticks=[], yticks=[])\n",
    "#     ax.imshow(img)\n",
    "#     ax.set_title(lb)"
   ]
  },
  {
   "cell_type": "code",
   "execution_count": 5,
   "metadata": {
    "id": "rxKZcw73GH8H"
   },
   "outputs": [],
   "source": [
    "train_data = data.iloc[train_index,]\n",
    "test_data=data.iloc[test_index,]"
   ]
  },
  {
   "cell_type": "code",
   "execution_count": 6,
   "metadata": {
    "id": "zpQGW2Q0z6-m"
   },
   "outputs": [],
   "source": [
    "test_data.to_csv('test_data.csv')"
   ]
  },
  {
   "cell_type": "code",
   "execution_count": 7,
   "metadata": {
    "id": "ax0BKQH_Ga8j"
   },
   "outputs": [],
   "source": [
    "from torchvision import transforms as T\n",
    "TRAIN_TRANSFORM = T.Compose([\n",
    "    T.Resize((224,224)),\n",
    "    # T.RandomPerspective(),\n",
    "    # T.RandomResizedCrop(224),\n",
    "    T.RandomHorizontalFlip(),\n",
    "    # T.RandomVerticalFlip(),\n",
    "    # T.ColorJitter(brightness=0.1, contrast=0.1, hue=0.1),\n",
    "    # T.RandomInvert(),\n",
    "    T.ToTensor(),\n",
    "    # T.Normalize([0.485, 0.456, 0.406], [0.229, 0.224, 0.225]),\n",
    "    # T.Normalize([0.431, 0.498,  0.313], [0.237, 0.239, 0.227]),  # custom\n",
    "])\n",
    "\n",
    "VALID_TRANSFORM = T.Compose([\n",
    "    T.Resize((224,224)),\n",
    "    # T.CenterCrop(224),\n",
    "    T.ToTensor(),\n",
    "    # T.Normalize([0.485, 0.456, 0.406], [0.229, 0.224, 0.225]),\n",
    "    # T.Normalize([0.431, 0.498,  0.313], [0.237, 0.239, 0.227]),  # custom\n",
    "])"
   ]
  },
  {
   "cell_type": "code",
   "execution_count": 8,
   "metadata": {
    "colab": {
     "base_uri": "https://localhost:8080/",
     "height": 689
    },
    "executionInfo": {
     "elapsed": 129149,
     "status": "ok",
     "timestamp": 1690801045883,
     "user": {
      "displayName": "김다현",
      "userId": "13193622913924935963"
     },
     "user_tz": -540
    },
    "id": "vcpUh52nGmU6",
    "outputId": "8a63afdd-fc43-430f-c28e-2e5a2939c567"
   },
   "outputs": [
    {
     "name": "stdout",
     "output_type": "stream",
     "text": [
      "training dataset: 2322\n",
      "test dataset: 580\n",
      "batch labels: 182\n",
      "image size: torch.Size([3, 224, 224])\n",
      "<class 'torch.Tensor'>\n"
     ]
    },
    {
     "data": {
      "image/png": "[encoded data removed]",
      "text/plain": [
       "<Figure size 300x700 with 3 Axes>"
      ]
     },
     "metadata": {},
     "output_type": "display_data"
    }
   ],
   "source": [
    "import multiprocessing as mproc\n",
    "import pytorch_lightning as pl\n",
    "from torch.utils.data import DataLoader\n",
    "\n",
    "class PlantPathologyDM(pl.LightningDataModule):\n",
    "    dataset_cls = PlantPathologyDataset\n",
    "\n",
    "    def __init__(\n",
    "        self,\n",
    "        path_csv: str = 'data.csv',\n",
    "        path_img_dir: str = 'train_images',\n",
    "        batch_size: int = 128,\n",
    "        num_workers: int = None,\n",
    "    ):\n",
    "        super().__init__()\n",
    "        self.path_csv = path_csv\n",
    "        self.path_img_dir = path_img_dir\n",
    "        self.batch_size = batch_size\n",
    "        self.num_workers = num_workers if num_workers is not None else mproc.cpu_count()\n",
    "        self.train_dataset = None\n",
    "        self.test_dataset = None\n",
    "\n",
    "    def prepare_data(self):\n",
    "        pass\n",
    "\n",
    "    @property\n",
    "    def num_classes(self) -> int:\n",
    "        assert self.train_dataset and self.test_dataset\n",
    "        return max(self.train_dataset.num_classes, self.test_dataset.num_classes)\n",
    "\n",
    "    def setup(self, stage=None):\n",
    "        self.train_dataset = self.dataset_cls(self.path_csv, mode='train', transforms=TRAIN_TRANSFORM)\n",
    "        print(f\"training dataset: {len(self.train_dataset)}\")\n",
    "        self.test_dataset = self.dataset_cls(self.path_csv, mode='test', transforms=VALID_TRANSFORM)\n",
    "        print(f\"test dataset: {len(self.test_dataset)}\")\n",
    "\n",
    "    def train_dataloader(self):\n",
    "        return DataLoader(\n",
    "            self.train_dataset,\n",
    "            batch_size=self.batch_size,\n",
    "            num_workers=self.num_workers,\n",
    "            shuffle=True,\n",
    "        )\n",
    "\n",
    "\n",
    "    def test_dataloader(self):\n",
    "        return DataLoader(\n",
    "            self.test_dataset,\n",
    "            batch_size=self.batch_size,\n",
    "            num_workers=self.num_workers,\n",
    "            shuffle=False,\n",
    "        )\n",
    "\n",
    "# ==============================\n",
    "# ==============================\n",
    "\n",
    "dm = PlantPathologyDM()\n",
    "dm.setup()\n",
    "\n",
    "\n",
    "# quick view\n",
    "fig = plt.figure(figsize=(3, 7))\n",
    "for imgs, lbs in dm.train_dataloader():\n",
    "    print(f'batch labels: {torch.sum(lbs, axis=0)}')\n",
    "    print(f'image size: {imgs[0].shape}')\n",
    "    print(type(imgs))\n",
    "    for i in range(3):\n",
    "        ax = fig.add_subplot(3, 1, i + 1, xticks=[], yticks=[])\n",
    "        # print(np.rollaxis(imgs[i].numpy(), 0, 3).shape)\n",
    "        ax.imshow(np.rollaxis(imgs[i].numpy(), 0, 3))\n",
    "        ax.set_title(lbs[i])\n",
    "    break"
   ]
  },
  {
   "cell_type": "code",
   "execution_count": 9,
   "metadata": {
    "colab": {
     "base_uri": "https://localhost:8080/"
    },
    "executionInfo": {
     "elapsed": 577,
     "status": "ok",
     "timestamp": 1690857434407,
     "user": {
      "displayName": "김다현",
      "userId": "12964372183241086841"
     },
     "user_tz": -540
    },
    "id": "oAuQOxuDIlHI",
    "outputId": "5e163a12-68e3-4f65-fa1c-b926e6879eca"
   },
   "outputs": [
    {
     "name": "stdout",
     "output_type": "stream",
     "text": [
      "Device: cuda\n"
     ]
    }
   ],
   "source": [
    "device = torch.device(\"cuda\" if torch.cuda.is_available() else \"cpu\")\n",
    "print('Device:', device)"
   ]
  },
  {
   "cell_type": "code",
   "execution_count": 10,
   "metadata": {
    "id": "5gorUjkrLB90"
   },
   "outputs": [],
   "source": [
    "class AverageMeter(object):\n",
    "    def __init__(self):\n",
    "        self.reset()\n",
    "\n",
    "    def reset(self):\n",
    "        self.val = 0\n",
    "        self.avg = 0\n",
    "        self.sum = 0\n",
    "        self.count = 0\n",
    "\n",
    "    def update(self, val, n=1):\n",
    "        self.val = val\n",
    "        self.sum += val * n\n",
    "        self.count += n\n",
    "        self.avg = self.sum / self.count"
   ]
  },
  {
   "cell_type": "code",
   "execution_count": 11,
   "metadata": {
    "id": "yUo8HBrQNO2g"
   },
   "outputs": [],
   "source": [
    "class ArcMarginProduct(nn.Module):\n",
    "    r\"\"\"Implement of large margin arc distance: :\n",
    "        Args:\n",
    "            in_features: size of each input sample\n",
    "            out_features: size of each output sample\n",
    "            s: norm of input feature\n",
    "            m: margin\n",
    "            cos(theta + m)\n",
    "        \"\"\"\n",
    "    def __init__(self, in_features, out_features, s=30.0, m=0.50, easy_margin=False, ls_eps=0.0):\n",
    "        super(ArcMarginProduct, self).__init__()\n",
    "        self.in_features = in_features\n",
    "        self.out_features = out_features\n",
    "        self.s = s\n",
    "        self.m = m\n",
    "        self.ls_eps = ls_eps  # label smoothing\n",
    "        self.weight = Parameter(torch.FloatTensor(out_features, in_features))\n",
    "        nn.init.xavier_uniform_(self.weight)\n",
    "\n",
    "        self.easy_margin = easy_margin\n",
    "        self.cos_m = math.cos(m)\n",
    "        self.sin_m = math.sin(m)\n",
    "        self.th = math.cos(math.pi - m)\n",
    "        self.mm = math.sin(math.pi - m) * m\n",
    "\n",
    "    def forward(self, input, label):\n",
    "        # --------------------------- cos(theta) & phi(theta) ---------------------------\n",
    "        cosine = F.linear(F.normalize(input), F.normalize(self.weight))\n",
    "\n",
    "        sine = torch.sqrt(1.0 - torch.pow(cosine, 2))\n",
    "        phi = cosine * self.cos_m - sine * self.sin_m\n",
    "        if self.easy_margin:\n",
    "            phi = torch.where(cosine > 0, phi, cosine)\n",
    "        else:\n",
    "            phi = torch.where(cosine > self.th, phi, cosine - self.mm)\n",
    "        # --------------------------- convert label to one-hot ---------------------------\n",
    "        # one_hot = torch.zeros(cosine.size(), requires_grad=True, device='cuda')\n",
    "        one_hot = torch.zeros(cosine.size(), device='cuda')\n",
    "        one_hot.scatter_(1, label.view(-1, 1).long(), 1)\n",
    "        if self.ls_eps > 0:\n",
    "            one_hot = (1 - self.ls_eps) * one_hot + self.ls_eps / self.out_features\n",
    "        # -------------torch.where(out_i = {x_i if condition_i else y_i) -------------\n",
    "        output = (one_hot * phi) + ((1.0 - one_hot) * cosine)\n",
    "        output *= self.s\n",
    "\n",
    "        return output"
   ]
  },
  {
   "cell_type": "code",
   "execution_count": 21,
   "metadata": {
    "id": "BA6siuCbLRSh"
   },
   "outputs": [],
   "source": [
    "class ShopeeNet(nn.Module):\n",
    "\n",
    "    def __init__(self,\n",
    "                 n_classes,\n",
    "                 model_name='vit_base_patch16_224',\n",
    "                 use_fc=False,\n",
    "                 fc_dim=512,\n",
    "                 dropout=0.0,\n",
    "                 s=30.0,\n",
    "                 margin=0.50,\n",
    "                 ls_eps=0.0,\n",
    "                 theta_zero=0.785,\n",
    "                 pretrained=True):\n",
    "        \"\"\"\n",
    "        :param n_classes:\n",
    "        :param model_name: name of model from pretrainedmodels\n",
    "            e.g. resnet50, resnext101_32x4d, pnasnet5large\n",
    "        :param pooling: One of ('SPoC', 'MAC', 'RMAC', 'GeM', 'Rpool', 'Flatten', 'CompactBilinearPooling')\n",
    "        :param loss_module: One of ('arcface', 'cosface', 'softmax')\n",
    "        \"\"\"\n",
    "        super(ShopeeNet, self).__init__()\n",
    "        print('Building Model Backbone for {} model'.format(model_name))\n",
    "\n",
    "        self.backbone = timm.create_model(model_name, pretrained=pretrained)\n",
    "        final_in_features = self.backbone.head.in_features\n",
    "\n",
    "        self.backbone.head = nn.Identity()\n",
    "        self.pooling =  nn.AdaptiveAvgPool2d(1)\n",
    "\n",
    "        self.use_fc = use_fc\n",
    "        if use_fc:\n",
    "            self.dropout = nn.Dropout(p=dropout)\n",
    "            self.fc = nn.Linear(final_in_features, fc_dim)\n",
    "            self.bn = nn.BatchNorm1d(fc_dim)\n",
    "            self._init_params()\n",
    "            final_in_features = fc_dim\n",
    "\n",
    "        self.final = nn.Linear(final_in_features, n_classes)\n",
    "\n",
    "    def _init_params(self):\n",
    "        nn.init.xavier_normal_(self.fc.weight)\n",
    "        nn.init.constant_(self.fc.bias, 0)\n",
    "        nn.init.constant_(self.bn.weight, 1)\n",
    "        nn.init.constant_(self.bn.bias, 0)\n",
    "\n",
    "    def forward(self, x):\n",
    "        feature = self.extract_feat(x)\n",
    "        logits = self.final(feature)\n",
    "        #logits = None\n",
    "        return feature, logits\n",
    "\n",
    "    def extract_feat(self, x):\n",
    "        batch_size = x.shape[0]\n",
    "        x = self.backbone(x)\n",
    "        #x = self.pooling(x).view(batch_size, -1)\n",
    "        #print(final_in_features)\n",
    "        if self.use_fc:\n",
    "            x = self.dropout(x)\n",
    "            x = self.fc(x)\n",
    "            x = self.bn(x)\n",
    "\n",
    "        return x"
   ]
  },
  {
   "cell_type": "code",
   "execution_count": 13,
   "metadata": {
    "id": "84_nsesrNc4D"
   },
   "outputs": [],
   "source": [
    "def train_fn(dataloader,model,criterion,optimizer,device,scheduler,epoch):\n",
    "    model.train()\n",
    "    loss_score = AverageMeter()\n",
    "\n",
    "    tk0 = tqdm.tqdm(enumerate(dataloader), total=len(dataloader))\n",
    "    for bi,d in tk0:\n",
    "\n",
    "        batch_size = d[0].shape[0]\n",
    "\n",
    "\n",
    "        images = d[0]\n",
    "        targets = d[1]\n",
    "\n",
    "        images = images.to(device)\n",
    "        targets = targets.to(device)\n",
    "\n",
    "        optimizer.zero_grad()\n",
    "\n",
    "        _,output = model(images,targets)\n",
    "        loss = criterion(output,targets)\n",
    "\n",
    "        loss.backward()\n",
    "        optimizer.step()\n",
    "\n",
    "        loss_score.update(loss.detach().item(), batch_size)\n",
    "        tk0.set_postfix(Train_Loss=loss_score.avg,Epoch=epoch)\n",
    "\n",
    "\n",
    "    return loss_score"
   ]
  },
  {
   "cell_type": "code",
   "execution_count": 14,
   "metadata": {
    "id": "JAyKOICANtaY"
   },
   "outputs": [],
   "source": [
    "def eval_fn(data_loader,model,criterion,device):\n",
    "\n",
    "    loss_score = AverageMeter()\n",
    "\n",
    "    model.eval()\n",
    "    tk0 = tqdm.tqdm(enumerate(data_loader), total=len(data_loader))\n",
    "\n",
    "    with torch.no_grad():\n",
    "\n",
    "        for bi,d in tk0:\n",
    "            batch_size = d[0].size()[0]\n",
    "\n",
    "            image = d[0]\n",
    "            targets = d[1]\n",
    "\n",
    "            image = image.to(device)\n",
    "            targets = targets.to(device)\n",
    "            _,output = model(image,targets)\n",
    "\n",
    "            loss = criterion(output,targets)\n",
    "\n",
    "            loss_score.update(loss.detach().item(), batch_size)\n",
    "            tk0.set_postfix(Eval_Loss=loss_score.avg)\n",
    "\n",
    "    return loss_score"
   ]
  },
  {
   "cell_type": "code",
   "execution_count": 15,
   "metadata": {},
   "outputs": [
    {
     "data": {
      "text/plain": [
       "True"
      ]
     },
     "execution_count": 15,
     "metadata": {},
     "output_type": "execute_result"
    }
   ],
   "source": [
    "import torch\n",
    "torch.cuda.current_device()\n",
    "torch.cuda.is_available()"
   ]
  },
  {
   "cell_type": "code",
   "execution_count": null,
   "metadata": {},
   "outputs": [],
   "source": [
    "import torch.nn as nn\n",
    "class FocalLoss(nn.Module):\n",
    "    def __init__(self, alpha=1, gamma=2, logits=False, reduce=True):\n",
    "        super(FocalLoss, self).__init__()\n",
    "        self.alpha = alpha\n",
    "        self.gamma = gamma\n",
    "        self.logits = logits\n",
    "        self.reduce = reduce\n",
    "\n",
    "    def forward(self, inputs, targets):\n",
    "        BCE_loss = nn.CrossEntropyLoss()(inputs, targets)\n",
    "\n",
    "        pt = torch.exp(-BCE_loss)\n",
    "        F_loss = self.alpha * (1-pt)**self.gamma * BCE_loss\n",
    "\n",
    "        if self.reduce:\n",
    "              return torch.mean(F_loss)\n",
    "        else:\n",
    "              return F_loss"
   ]
  },
  {
   "cell_type": "code",
   "execution_count": 16,
   "metadata": {
    "colab": {
     "background_save": true,
     "base_uri": "https://localhost:8080/",
     "height": 1000,
     "referenced_widgets": [
      "bfd487bd32064e6d8653513d4459e029",
      "2b53710f32004298954a51073ec03277",
      "6f6483e714d344d29f68b4640a329787",
      "76457e11711c408c88706662ec2a8fe8",
      "4f31cb7b120e4ffdb26c10e73f51ffce",
      "20e05637d82542388b7efc5d38a076c8",
      "19b1a988974441af91db8a5788fd22f0",
      "c1ac8cc008ec4630b9ce0c93f6295603",
      "71229171a929414cbbdf1f53c6ebd7d8",
      "2097c8c67c3a4402ae8a9b83b1d45512",
      "a484f715f28a48969d88338942d636e3"
     ]
    },
    "id": "ltuVu0xfOX3j",
    "outputId": "8f5d634d-4a0a-415e-9851-626a798ab480"
   },
   "outputs": [
    {
     "name": "stdout",
     "output_type": "stream",
     "text": [
      "Building Model Backbone for vit_base_patch16_224 model\n",
      "Fold 1\n"
     ]
    },
    {
     "name": "stderr",
     "output_type": "stream",
     "text": [
      "100%|█████████████████████████████████████████████████████████| 30/30 [00:28<00:00,  1.06it/s, Epoch=0, Train_Loss=7.31]\n",
      "100%|█████████████████████████████████████████████████████████████████████| 8/8 [00:02<00:00,  3.35it/s, Eval_Loss=1.52]\n",
      "/home/anniy8920/.conda/envs/pytorch/lib/python3.9/site-packages/torch/optim/lr_scheduler.py:139: UserWarning: Detected call of `lr_scheduler.step()` before `optimizer.step()`. In PyTorch 1.1.0 and later, you should call them in the opposite order: `optimizer.step()` before `lr_scheduler.step()`.  Failure to do this will result in PyTorch skipping the first value of the learning rate schedule. See more details at https://pytorch.org/docs/stable/optim.html#how-to-adjust-learning-rate\n",
      "  warnings.warn(\"Detected call of `lr_scheduler.step()` before `optimizer.step()`. \"\n",
      "100%|█████████████████████████████████████████████████████████| 30/30 [00:27<00:00,  1.09it/s, Epoch=1, Train_Loss=2.19]\n",
      "100%|██████████████████████████████████████████████████████████████████████| 8/8 [00:02<00:00,  3.29it/s, Eval_Loss=3.4]\n",
      "100%|██████████████████████████████████████████████████████████| 30/30 [00:27<00:00,  1.09it/s, Epoch=2, Train_Loss=2.1]\n",
      "100%|█████████████████████████████████████████████████████████████████████| 8/8 [00:02<00:00,  3.26it/s, Eval_Loss=2.72]\n",
      "100%|█████████████████████████████████████████████████████████| 30/30 [00:27<00:00,  1.08it/s, Epoch=3, Train_Loss=1.91]\n",
      "100%|█████████████████████████████████████████████████████████████████████| 8/8 [00:02<00:00,  3.25it/s, Eval_Loss=3.36]\n",
      "100%|█████████████████████████████████████████████████████████| 30/30 [00:27<00:00,  1.08it/s, Epoch=4, Train_Loss=2.12]\n",
      "100%|█████████████████████████████████████████████████████████████████████| 8/8 [00:02<00:00,  3.28it/s, Eval_Loss=1.71]\n",
      "100%|█████████████████████████████████████████████████████████| 30/30 [00:27<00:00,  1.08it/s, Epoch=5, Train_Loss=1.61]\n",
      "100%|█████████████████████████████████████████████████████████████████████| 8/8 [00:02<00:00,  3.26it/s, Eval_Loss=4.38]\n",
      "100%|█████████████████████████████████████████████████████████| 30/30 [00:27<00:00,  1.08it/s, Epoch=6, Train_Loss=2.12]\n",
      "100%|█████████████████████████████████████████████████████████████████████| 8/8 [00:02<00:00,  3.17it/s, Eval_Loss=2.26]\n",
      "100%|█████████████████████████████████████████████████████████| 30/30 [00:27<00:00,  1.08it/s, Epoch=7, Train_Loss=1.73]\n",
      "100%|█████████████████████████████████████████████████████████████████████| 8/8 [00:02<00:00,  3.23it/s, Eval_Loss=2.23]\n",
      "100%|█████████████████████████████████████████████████████████| 30/30 [00:27<00:00,  1.08it/s, Epoch=8, Train_Loss=1.75]\n",
      "100%|█████████████████████████████████████████████████████████████████████| 8/8 [00:02<00:00,  3.23it/s, Eval_Loss=1.75]\n",
      "100%|█████████████████████████████████████████████████████████| 30/30 [00:27<00:00,  1.08it/s, Epoch=9, Train_Loss=1.58]\n",
      "100%|█████████████████████████████████████████████████████████████████████| 8/8 [00:02<00:00,  3.23it/s, Eval_Loss=1.83]\n",
      "100%|████████████████████████████████████████████████████████| 30/30 [00:27<00:00,  1.08it/s, Epoch=10, Train_Loss=1.57]\n",
      "100%|█████████████████████████████████████████████████████████████████████| 8/8 [00:02<00:00,  3.27it/s, Eval_Loss=2.05]\n",
      "100%|████████████████████████████████████████████████████████| 30/30 [00:27<00:00,  1.08it/s, Epoch=11, Train_Loss=1.59]\n",
      "100%|██████████████████████████████████████████████████████████████████████| 8/8 [00:02<00:00,  3.30it/s, Eval_Loss=1.7]\n",
      "100%|████████████████████████████████████████████████████████| 30/30 [00:27<00:00,  1.08it/s, Epoch=12, Train_Loss=1.66]\n",
      "100%|█████████████████████████████████████████████████████████████████████| 8/8 [00:02<00:00,  3.29it/s, Eval_Loss=1.36]\n",
      "100%|████████████████████████████████████████████████████████| 30/30 [00:27<00:00,  1.08it/s, Epoch=13, Train_Loss=1.41]\n",
      "100%|██████████████████████████████████████████████████████████████████████| 8/8 [00:02<00:00,  3.31it/s, Eval_Loss=1.4]\n",
      "100%|█████████████████████████████████████████████████████████| 30/30 [00:27<00:00,  1.08it/s, Epoch=14, Train_Loss=1.4]\n",
      "100%|█████████████████████████████████████████████████████████████████████| 8/8 [00:02<00:00,  3.32it/s, Eval_Loss=1.39]\n",
      "100%|████████████████████████████████████████████████████████| 30/30 [00:27<00:00,  1.08it/s, Epoch=15, Train_Loss=1.38]\n",
      "100%|█████████████████████████████████████████████████████████████████████| 8/8 [00:02<00:00,  3.15it/s, Eval_Loss=1.39]\n",
      "100%|████████████████████████████████████████████████████████| 30/30 [00:27<00:00,  1.08it/s, Epoch=16, Train_Loss=1.38]\n",
      "100%|█████████████████████████████████████████████████████████████████████| 8/8 [00:02<00:00,  3.23it/s, Eval_Loss=1.37]\n",
      "100%|████████████████████████████████████████████████████████| 30/30 [00:27<00:00,  1.08it/s, Epoch=17, Train_Loss=1.36]\n",
      "100%|█████████████████████████████████████████████████████████████████████| 8/8 [00:02<00:00,  3.22it/s, Eval_Loss=1.35]\n",
      "100%|████████████████████████████████████████████████████████| 30/30 [00:27<00:00,  1.08it/s, Epoch=18, Train_Loss=1.37]\n",
      "100%|█████████████████████████████████████████████████████████████████████| 8/8 [00:02<00:00,  3.27it/s, Eval_Loss=1.33]\n",
      "100%|████████████████████████████████████████████████████████| 30/30 [00:27<00:00,  1.08it/s, Epoch=19, Train_Loss=1.35]\n",
      "100%|█████████████████████████████████████████████████████████████████████| 8/8 [00:02<00:00,  3.28it/s, Eval_Loss=1.35]\n",
      "100%|████████████████████████████████████████████████████████| 30/30 [00:27<00:00,  1.08it/s, Epoch=20, Train_Loss=1.34]\n",
      "100%|█████████████████████████████████████████████████████████████████████| 8/8 [00:02<00:00,  3.32it/s, Eval_Loss=1.34]\n",
      "100%|████████████████████████████████████████████████████████| 30/30 [00:27<00:00,  1.08it/s, Epoch=21, Train_Loss=1.35]\n",
      "100%|█████████████████████████████████████████████████████████████████████| 8/8 [00:02<00:00,  3.24it/s, Eval_Loss=1.35]\n",
      "100%|████████████████████████████████████████████████████████| 30/30 [00:27<00:00,  1.08it/s, Epoch=22, Train_Loss=1.35]\n",
      "100%|█████████████████████████████████████████████████████████████████████| 8/8 [00:02<00:00,  3.24it/s, Eval_Loss=1.34]\n",
      "100%|████████████████████████████████████████████████████████| 30/30 [00:27<00:00,  1.08it/s, Epoch=23, Train_Loss=1.34]\n",
      "100%|█████████████████████████████████████████████████████████████████████| 8/8 [00:02<00:00,  3.27it/s, Eval_Loss=1.33]\n",
      "100%|████████████████████████████████████████████████████████| 30/30 [00:27<00:00,  1.08it/s, Epoch=24, Train_Loss=1.35]\n",
      "100%|█████████████████████████████████████████████████████████████████████| 8/8 [00:02<00:00,  3.24it/s, Eval_Loss=1.37]\n",
      "100%|████████████████████████████████████████████████████████| 30/30 [00:27<00:00,  1.08it/s, Epoch=25, Train_Loss=1.35]\n",
      "100%|█████████████████████████████████████████████████████████████████████| 8/8 [00:02<00:00,  3.30it/s, Eval_Loss=1.33]\n",
      "100%|████████████████████████████████████████████████████████| 30/30 [00:27<00:00,  1.08it/s, Epoch=26, Train_Loss=1.34]\n",
      "100%|█████████████████████████████████████████████████████████████████████| 8/8 [00:02<00:00,  3.30it/s, Eval_Loss=1.33]\n",
      "100%|████████████████████████████████████████████████████████| 30/30 [00:27<00:00,  1.08it/s, Epoch=27, Train_Loss=1.34]\n",
      "100%|█████████████████████████████████████████████████████████████████████| 8/8 [00:02<00:00,  3.30it/s, Eval_Loss=1.34]\n",
      "100%|████████████████████████████████████████████████████████| 30/30 [00:27<00:00,  1.08it/s, Epoch=28, Train_Loss=1.34]\n",
      "100%|█████████████████████████████████████████████████████████████████████| 8/8 [00:02<00:00,  3.28it/s, Eval_Loss=1.34]\n",
      "100%|████████████████████████████████████████████████████████| 30/30 [00:27<00:00,  1.08it/s, Epoch=29, Train_Loss=1.35]\n",
      "100%|█████████████████████████████████████████████████████████████████████| 8/8 [00:02<00:00,  3.28it/s, Eval_Loss=1.35]\n",
      "100%|████████████████████████████████████████████████████████| 30/30 [00:27<00:00,  1.08it/s, Epoch=30, Train_Loss=1.34]\n",
      "100%|█████████████████████████████████████████████████████████████████████| 8/8 [00:02<00:00,  3.33it/s, Eval_Loss=1.35]\n",
      "100%|████████████████████████████████████████████████████████| 30/30 [00:27<00:00,  1.08it/s, Epoch=31, Train_Loss=1.34]\n",
      "100%|█████████████████████████████████████████████████████████████████████| 8/8 [00:02<00:00,  3.32it/s, Eval_Loss=1.33]\n",
      "100%|████████████████████████████████████████████████████████| 30/30 [00:27<00:00,  1.08it/s, Epoch=32, Train_Loss=1.34]\n",
      "100%|█████████████████████████████████████████████████████████████████████| 8/8 [00:02<00:00,  3.31it/s, Eval_Loss=1.34]\n",
      "100%|████████████████████████████████████████████████████████| 30/30 [00:27<00:00,  1.08it/s, Epoch=33, Train_Loss=1.36]\n",
      "100%|█████████████████████████████████████████████████████████████████████| 8/8 [00:02<00:00,  3.27it/s, Eval_Loss=1.37]\n",
      "100%|████████████████████████████████████████████████████████| 30/30 [00:27<00:00,  1.08it/s, Epoch=34, Train_Loss=1.35]\n",
      "100%|█████████████████████████████████████████████████████████████████████| 8/8 [00:02<00:00,  3.35it/s, Eval_Loss=1.33]\n",
      "100%|████████████████████████████████████████████████████████| 30/30 [00:27<00:00,  1.08it/s, Epoch=35, Train_Loss=1.34]\n",
      "100%|█████████████████████████████████████████████████████████████████████| 8/8 [00:02<00:00,  3.29it/s, Eval_Loss=1.33]\n",
      "100%|████████████████████████████████████████████████████████| 30/30 [00:27<00:00,  1.08it/s, Epoch=36, Train_Loss=1.34]\n",
      "100%|█████████████████████████████████████████████████████████████████████| 8/8 [00:02<00:00,  3.19it/s, Eval_Loss=1.34]\n",
      " 93%|████████████████████████████████████████████████████▎   | 28/30 [00:27<00:01,  1.01it/s, Epoch=37, Train_Loss=1.34]\n"
     ]
    },
    {
     "ename": "KeyboardInterrupt",
     "evalue": "",
     "output_type": "error",
     "traceback": [
      "\u001b[0;31m---------------------------------------------------------------------------\u001b[0m",
      "\u001b[0;31mKeyboardInterrupt\u001b[0m                         Traceback (most recent call last)",
      "Cell \u001b[0;32mIn[16], line 26\u001b[0m\n\u001b[1;32m     24\u001b[0m best_loss \u001b[38;5;241m=\u001b[39m \u001b[38;5;241m1000000\u001b[39m\n\u001b[1;32m     25\u001b[0m \u001b[38;5;28;01mfor\u001b[39;00m epoch \u001b[38;5;129;01min\u001b[39;00m \u001b[38;5;28mrange\u001b[39m(num_epochs):\n\u001b[0;32m---> 26\u001b[0m     train_loss\u001b[38;5;241m=\u001b[39m\u001b[43mtrain_fn\u001b[49m\u001b[43m(\u001b[49m\u001b[43mtrain_loader\u001b[49m\u001b[43m,\u001b[49m\u001b[43m \u001b[49m\u001b[43mmodel\u001b[49m\u001b[43m,\u001b[49m\u001b[43m \u001b[49m\u001b[43mcriterion\u001b[49m\u001b[43m,\u001b[49m\u001b[43m \u001b[49m\u001b[43moptimizer\u001b[49m\u001b[43m,\u001b[49m\u001b[43m \u001b[49m\u001b[43mdevice\u001b[49m\u001b[43m,\u001b[49m\u001b[43m \u001b[49m\u001b[43mscheduler\u001b[49m\u001b[43m \u001b[49m\u001b[38;5;241;43m=\u001b[39;49m\u001b[43m \u001b[49m\u001b[43mscheduler\u001b[49m\u001b[43m,\u001b[49m\u001b[43m \u001b[49m\u001b[43mepoch\u001b[49m\u001b[43m \u001b[49m\u001b[38;5;241;43m=\u001b[39;49m\u001b[43m \u001b[49m\u001b[43mepoch\u001b[49m\u001b[43m)\u001b[49m\n\u001b[1;32m     27\u001b[0m     test_loss\u001b[38;5;241m=\u001b[39m eval_fn(test_loader, model, criterion, device)\n\u001b[1;32m     28\u001b[0m     scheduler\u001b[38;5;241m.\u001b[39mstep()\n",
      "Cell \u001b[0;32mIn[13], line 25\u001b[0m, in \u001b[0;36mtrain_fn\u001b[0;34m(dataloader, model, criterion, optimizer, device, scheduler, epoch)\u001b[0m\n\u001b[1;32m     22\u001b[0m     loss\u001b[38;5;241m.\u001b[39mbackward()\n\u001b[1;32m     23\u001b[0m     optimizer\u001b[38;5;241m.\u001b[39mstep()\n\u001b[0;32m---> 25\u001b[0m     loss_score\u001b[38;5;241m.\u001b[39mupdate(\u001b[43mloss\u001b[49m\u001b[38;5;241;43m.\u001b[39;49m\u001b[43mdetach\u001b[49m\u001b[43m(\u001b[49m\u001b[43m)\u001b[49m\u001b[38;5;241;43m.\u001b[39;49m\u001b[43mitem\u001b[49m\u001b[43m(\u001b[49m\u001b[43m)\u001b[49m, batch_size)\n\u001b[1;32m     26\u001b[0m     tk0\u001b[38;5;241m.\u001b[39mset_postfix(Train_Loss\u001b[38;5;241m=\u001b[39mloss_score\u001b[38;5;241m.\u001b[39mavg,Epoch\u001b[38;5;241m=\u001b[39mepoch)\n\u001b[1;32m     29\u001b[0m \u001b[38;5;28;01mreturn\u001b[39;00m loss_score\n",
      "\u001b[0;31mKeyboardInterrupt\u001b[0m: "
     ]
    }
   ],
   "source": [
    "os.environ[\"CUDA_VISIBLE_DEVICES\"]= \"6,7,8,9\"\n",
    "foldperf= {}\n",
    "from torch.utils.data import SubsetRandomSampler\n",
    "import torch.optim as optim\n",
    "criterion = FocalLoss()\n",
    "model = ShopeeNet(fc_dim=512, n_classes=n_classes, s=20, margin=0.5,ls_eps=0.0,theta_zero=0.785)\n",
    "model= model.to(device)\n",
    "num_epochs = 30\n",
    "optimizer = torch.optim.Adam(model.parameters(), lr=0.01)\n",
    "scheduler = optim.lr_scheduler.CosineAnnealingLR(optimizer, T_max=50, eta_min=0)\n",
    "for fold, (train_idx,val_idx) in enumerate(skf.split(train_data['img'], train_data['labels'])):\n",
    "\n",
    "    print('Fold {}'.format(fold + 1))\n",
    "\n",
    "    train_sampler = SubsetRandomSampler(train_idx)\n",
    "    test_sampler = SubsetRandomSampler(val_idx)\n",
    "    train_loader = DataLoader(PlantPathologyDataset(mode='train', transforms=TRAIN_TRANSFORM), batch_size=64, sampler=train_sampler,num_workers=1)\n",
    "    test_loader = DataLoader(PlantPathologyDataset(mode='train', transforms=VALID_TRANSFORM), batch_size=64, sampler=test_sampler,num_workers=1)\n",
    "\n",
    "\n",
    "    optimizer = torch.optim.AdamW(model.parameters(), lr=1e-2)\n",
    "\n",
    "    history = {'train_loss': [], 'test_loss': [],'train_acc':[],'test_acc':[]}\n",
    "    best_loss = 1000000\n",
    "    for epoch in range(num_epochs):\n",
    "        train_loss=train_fn(train_loader, model, criterion, optimizer, device, scheduler = scheduler, epoch = epoch)\n",
    "        test_loss= eval_fn(test_loader, model, criterion, device)\n",
    "        scheduler.step()\n",
    "        if test_loss.avg < best_loss:\n",
    "            torch.save(model,'final.pt')\n",
    "            best_loss = test_loss.avg\n",
    "\n",
    "\n",
    "        history['train_loss'].append(train_loss)\n",
    "        history['test_loss'].append(test_loss)\n",
    "\n",
    "\n",
    "    foldperf['fold{}'.format(fold+1)] = history"
   ]
  },
  {
   "cell_type": "code",
   "execution_count": 23,
   "metadata": {},
   "outputs": [
    {
     "data": {
      "text/plain": [
       "{'sm': 0, 'yg': 1, 'hybe': 2, 'jyp': 3}"
      ]
     },
     "execution_count": 23,
     "metadata": {},
     "output_type": "execute_result"
    }
   ],
   "source": [
    "labels_lut"
   ]
  },
  {
   "cell_type": "code",
   "execution_count": 28,
   "metadata": {},
   "outputs": [
    {
     "name": "stdout",
     "output_type": "stream",
     "text": [
      "   labels  predict\n",
      "0       3        0\n",
      "1       0        0\n",
      "2       2        0\n",
      "3       0        0\n",
      "4       0        0\n"
     ]
    }
   ],
   "source": [
    "model2=torch.load('final.pt')\n",
    "model2.eval()\n",
    "preds = []\n",
    "dm.batch_size = 32\n",
    "total_batch = int(580/dm.batch_size)\n",
    "for i in range(total_batch):\n",
    "    for imgs, names in dm.test_dataloader():\n",
    "            with torch.no_grad():\n",
    "                imgs=imgs.cuda()\n",
    "                _,logits = model2(imgs)\n",
    "            #print(np.round(encode.cpu().numpy(), decimals=2))\n",
    "            for be, name in zip(logits,names ):#여기서 be는 encode 원소들 즉, 예측결과\n",
    "                #count= count_frequency(np.round(be.cpu().numpy(), decimals=2))\n",
    "                # if 1.0 in count.keys() and count[1.0]==2 :\n",
    "                #         temp=np.argpartition(be.cpu().detach().numpy(), -2)[-2:]\n",
    "                #         lbs=int(name.numpy()) if name.numpy() in temp else temp[0]\n",
    "                lbs=np.argmax(be.cpu().detach().numpy())\n",
    "                preds.append(dict(labels=int(name.numpy()), predict=lbs))\n",
    "            break\n",
    "\n",
    "df_preds = pd.DataFrame(preds)\n",
    "print(df_preds.head())"
   ]
  },
  {
   "cell_type": "code",
   "execution_count": 29,
   "metadata": {},
   "outputs": [
    {
     "name": "stdout",
     "output_type": "stream",
     "text": [
      "     y_Actual  y_Predicted\n",
      "0           3            0\n",
      "1           0            0\n",
      "2           2            0\n",
      "3           0            0\n",
      "4           0            0\n",
      "..        ...          ...\n",
      "571         3            0\n",
      "572         0            0\n",
      "573         1            0\n",
      "574         0            0\n",
      "575         3            0\n",
      "\n",
      "[576 rows x 2 columns]\n"
     ]
    }
   ],
   "source": [
    "data = {'y_Actual':    list(df_preds['labels'].values),\n",
    "        'y_Predicted': list(df_preds['predict'].values),\n",
    "        }\n",
    "\n",
    "df = pd.DataFrame(data, columns=['y_Actual','y_Predicted'])\n",
    "print (df)"
   ]
  },
  {
   "cell_type": "code",
   "execution_count": 30,
   "metadata": {},
   "outputs": [
    {
     "name": "stdout",
     "output_type": "stream",
     "text": [
      "Predicted    0\n",
      "Actual        \n",
      "0          144\n",
      "1          126\n",
      "2           72\n",
      "3          234\n"
     ]
    }
   ],
   "source": [
    "confusion_matrix = pd.crosstab(df['y_Actual'], df['y_Predicted'], rownames=['Actual'], colnames=['Predicted'])\n",
    "print (confusion_matrix)"
   ]
  },
  {
   "cell_type": "code",
   "execution_count": null,
   "metadata": {
    "id": "gsDUwgaVTqgI"
   },
   "outputs": [],
   "source": [
    "import gc\n",
    "\n",
    "embeds = []\n",
    "\n",
    "my_model = ShopeeNet(n_classes=4,model_name='vit_large_patch14_clip_224.openai',pretrained=False)\n",
    "\n",
    "model = torch.load('k_cross_CNN.pt')\n",
    "my_model.load_state_dict(model.state_dict(),strict=False)\n",
    "my_model = my_model.to(device)\n",
    "my_model.eval()\n",
    "image_dataset = PlantPathologyDataset(mode='test', transforms=VALID_TRANSFORM)\n",
    "image_loader = torch.utils.data.DataLoader(\n",
    "    image_dataset,\n",
    "    batch_size=8,\n",
    "    pin_memory=True,\n",
    "    drop_last=False)\n",
    "val_correct=0\n",
    "for img,label in tqdm.tqdm(image_loader):\n",
    "    img = img.to(device)\n",
    "    label = label.to(device)\n",
    "    feat, _ = my_model(img,label)\n",
    "    image_embeddings = feat.detach().cpu().numpy()\n",
    "    embeds.append(image_embeddings)\n",
    "\n",
    "del model\n",
    "image_embeddings = np.concatenate(embeds)\n",
    "print(f'Our image embeddings shape is {image_embeddings.shape}')\n",
    "del embeds\n",
    "gc.collect()\n"
   ]
  },
  {
   "cell_type": "code",
   "execution_count": null,
   "metadata": {
    "id": "gYfgTxz74ImI"
   },
   "outputs": [],
   "source": [
    "embeddings = np.load('embeddings.npy')\n",
    "df = pd.read_csv('test_data.csv')"
   ]
  },
  {
   "cell_type": "code",
   "execution_count": null,
   "metadata": {
    "id": "pwRL07JxqsLg"
   },
   "outputs": [],
   "source": [
    "def f1_score(y_true, y_pred):\n",
    "    y_true = y_true.apply(lambda x: set(x.split()))\n",
    "    y_pred = y_pred.apply(lambda x: set(x.split()))\n",
    "    intersection = np.array([len(x[0] & x[1]) for x in zip(y_true, y_pred)])\n",
    "    len_y_pred = y_pred.apply(lambda x: len(x)).values\n",
    "    len_y_true = y_true.apply(lambda x: len(x)).values\n",
    "    f1 = 2 * intersection / (len_y_pred + len_y_true)\n",
    "    return f1"
   ]
  },
  {
   "cell_type": "code",
   "execution_count": null,
   "metadata": {
    "colab": {
     "base_uri": "https://localhost:8080/"
    },
    "executionInfo": {
     "elapsed": 798,
     "status": "ok",
     "timestamp": 1690857655637,
     "user": {
      "displayName": "김다현",
      "userId": "12964372183241086841"
     },
     "user_tz": -540
    },
    "id": "duJRj1EMqueJ",
    "outputId": "dd8ec0f3-a478-4fb1-fda1-1c7b57b33851"
   },
   "outputs": [],
   "source": [
    "!pip install sklearn"
   ]
  },
  {
   "cell_type": "code",
   "execution_count": null,
   "metadata": {
    "colab": {
     "base_uri": "https://localhost:8080/"
    },
    "executionInfo": {
     "elapsed": 1326,
     "status": "ok",
     "timestamp": 1690858312062,
     "user": {
      "displayName": "김다현",
      "userId": "12964372183241086841"
     },
     "user_tz": -540
    },
    "id": "FN6B4EEIp_1-",
    "outputId": "cee774f5-c2c7-41bd-e04b-d0b2256678a6"
   },
   "outputs": [],
   "source": [
    "from sklearn.neighbors import NearestNeighbors\n",
    "KNN= 30\n",
    "image = True\n",
    "model = NearestNeighbors(n_neighbors = KNN)\n",
    "model.fit(embeddings)\n",
    "distances, indices = model.kneighbors(embeddings)\n",
    "\n",
    "# Iterate through different thresholds to maximize cv, run this in interactive mode, then replace else clause with a solid threshold\n",
    "if True:\n",
    "    if image:\n",
    "        thresholds = list(np.arange(0,1,0.1))\n",
    "    else:\n",
    "        thresholds = list(np.arange(0.1, 1, 0.1))\n",
    "    scores = []\n",
    "    for threshold in thresholds:\n",
    "        predictions = []\n",
    "        for k in range(embeddings.shape[0]):\n",
    "            idx = np.where(distances[k,] < threshold)[0]\n",
    "            ids = indices[k,idx]\n",
    "            posting_ids = ' '.join(df['labels'].iloc[ids].values)\n",
    "            predictions.append(posting_ids[1:])\n",
    "        print(len(df), len(predictions))\n",
    "        df['pred_matches'] = predictions\n",
    "        df['f1'] = f1_score(df['labels'], df['pred_matches'])\n",
    "        score = df['f1'].mean()\n",
    "        print(f'Our f1 score for threshold {threshold} is {score}')\n",
    "        scores.append(score)\n",
    "    thresholds_scores = pd.DataFrame({'thresholds': thresholds, 'scores': scores})\n",
    "    max_score = thresholds_scores[thresholds_scores['scores'] == thresholds_scores['scores'].max()]\n",
    "    best_threshold = max_score['thresholds'].values[0]\n",
    "    best_score = max_score['scores'].values[0]\n",
    "    print(f'Our best score is {best_score} and has a threshold {best_threshold}')\n",
    "    # Use threshold\n",
    "    predictions = []\n",
    "    for k in range(embeddings.shape[0]):\n",
    "        # Because we are predicting the test set that have 70K images and different label groups, confidence should be smaller\n",
    "        if image:\n",
    "            idx = np.where(distances[k,] < 2.7)[0]\n",
    "        else:\n",
    "            idx = np.where(distances[k,] < 0.60)[0]\n",
    "        ids = indices[k,idx]\n",
    "        posting_ids = df['labels'].iloc[ids].values\n",
    "        predictions.append(posting_ids)\n",
    "\n",
    "# Because we are predicting the test set that have 70K images and different label groups, confidence should be smaller\n",
    "else:\n",
    "    predictions = []\n",
    "    for k in tqdm(range(embeddings.shape[0])):\n",
    "        if image:\n",
    "            idx = np.where(distances[k,] < 2.7)[0]\n",
    "        else:\n",
    "            idx = np.where(distances[k,] < 0.60)[0]\n",
    "        ids = indices[k,idx]\n",
    "        posting_ids = df['posting_id'].iloc[ids].values\n",
    "        predictions.append(posting_ids)\n",
    "\n",
    "del model, distances, indices\n"
   ]
  },
  {
   "cell_type": "code",
   "execution_count": null,
   "metadata": {
    "colab": {
     "base_uri": "https://localhost:8080/",
     "height": 423
    },
    "executionInfo": {
     "elapsed": 5,
     "status": "ok",
     "timestamp": 1690857705369,
     "user": {
      "displayName": "김다현",
      "userId": "12964372183241086841"
     },
     "user_tz": -540
    },
    "id": "dYmIFVB-qbLF",
    "outputId": "a7b0fcb6-053f-4180-b34a-393e49bdb57b"
   },
   "outputs": [],
   "source": [
    "df"
   ]
  },
  {
   "cell_type": "code",
   "execution_count": null,
   "metadata": {
    "id": "76WnKnNLxHfJ"
   },
   "outputs": [],
   "source": []
  }
 ],
 "metadata": {
  "colab": {
   "provenance": []
  },
  "kernelspec": {
   "display_name": "Python 3 (ipykernel)",
   "language": "python",
   "name": "python3"
  },
  "language_info": {
   "codemirror_mode": {
    "name": "ipython",
    "version": 3
   },
   "file_extension": ".py",
   "mimetype": "text/x-python",
   "name": "python",
   "nbconvert_exporter": "python",
   "pygments_lexer": "ipython3",
   "version": "3.9.7"
  },
  "widgets": {
   "application/vnd.jupyter.widget-state+json": {
    "19b1a988974441af91db8a5788fd22f0": {
     "model_module": "@jupyter-widgets/controls",
     "model_module_version": "1.5.0",
     "model_name": "DescriptionStyleModel",
     "state": {
      "_model_module": "@jupyter-widgets/controls",
      "_model_module_version": "1.5.0",
      "_model_name": "DescriptionStyleModel",
      "_view_count": null,
      "_view_module": "@jupyter-widgets/base",
      "_view_module_version": "1.2.0",
      "_view_name": "StyleView",
      "description_width": ""
     }
    },
    "2097c8c67c3a4402ae8a9b83b1d45512": {
     "model_module": "@jupyter-widgets/base",
     "model_module_version": "1.2.0",
     "model_name": "LayoutModel",
     "state": {
      "_model_module": "@jupyter-widgets/base",
      "_model_module_version": "1.2.0",
      "_model_name": "LayoutModel",
      "_view_count": null,
      "_view_module": "@jupyter-widgets/base",
      "_view_module_version": "1.2.0",
      "_view_name": "LayoutView",
      "align_content": null,
      "align_items": null,
      "align_self": null,
      "border": null,
      "bottom": null,
      "display": null,
      "flex": null,
      "flex_flow": null,
      "grid_area": null,
      "grid_auto_columns": null,
      "grid_auto_flow": null,
      "grid_auto_rows": null,
      "grid_column": null,
      "grid_gap": null,
      "grid_row": null,
      "grid_template_areas": null,
      "grid_template_columns": null,
      "grid_template_rows": null,
      "height": null,
      "justify_content": null,
      "justify_items": null,
      "left": null,
      "margin": null,
      "max_height": null,
      "max_width": null,
      "min_height": null,
      "min_width": null,
      "object_fit": null,
      "object_position": null,
      "order": null,
      "overflow": null,
      "overflow_x": null,
      "overflow_y": null,
      "padding": null,
      "right": null,
      "top": null,
      "visibility": null,
      "width": null
     }
    },
    "20e05637d82542388b7efc5d38a076c8": {
     "model_module": "@jupyter-widgets/base",
     "model_module_version": "1.2.0",
     "model_name": "LayoutModel",
     "state": {
      "_model_module": "@jupyter-widgets/base",
      "_model_module_version": "1.2.0",
      "_model_name": "LayoutModel",
      "_view_count": null,
      "_view_module": "@jupyter-widgets/base",
      "_view_module_version": "1.2.0",
      "_view_name": "LayoutView",
      "align_content": null,
      "align_items": null,
      "align_self": null,
      "border": null,
      "bottom": null,
      "display": null,
      "flex": null,
      "flex_flow": null,
      "grid_area": null,
      "grid_auto_columns": null,
      "grid_auto_flow": null,
      "grid_auto_rows": null,
      "grid_column": null,
      "grid_gap": null,
      "grid_row": null,
      "grid_template_areas": null,
      "grid_template_columns": null,
      "grid_template_rows": null,
      "height": null,
      "justify_content": null,
      "justify_items": null,
      "left": null,
      "margin": null,
      "max_height": null,
      "max_width": null,
      "min_height": null,
      "min_width": null,
      "object_fit": null,
      "object_position": null,
      "order": null,
      "overflow": null,
      "overflow_x": null,
      "overflow_y": null,
      "padding": null,
      "right": null,
      "top": null,
      "visibility": null,
      "width": null
     }
    },
    "2b53710f32004298954a51073ec03277": {
     "model_module": "@jupyter-widgets/controls",
     "model_module_version": "1.5.0",
     "model_name": "HTMLModel",
     "state": {
      "_dom_classes": [],
      "_model_module": "@jupyter-widgets/controls",
      "_model_module_version": "1.5.0",
      "_model_name": "HTMLModel",
      "_view_count": null,
      "_view_module": "@jupyter-widgets/controls",
      "_view_module_version": "1.5.0",
      "_view_name": "HTMLView",
      "description": "",
      "description_tooltip": null,
      "layout": "IPY_MODEL_20e05637d82542388b7efc5d38a076c8",
      "placeholder": "​",
      "style": "IPY_MODEL_19b1a988974441af91db8a5788fd22f0",
      "value": "Downloading pytorch_model.bin: 100%"
     }
    },
    "4f31cb7b120e4ffdb26c10e73f51ffce": {
     "model_module": "@jupyter-widgets/base",
     "model_module_version": "1.2.0",
     "model_name": "LayoutModel",
     "state": {
      "_model_module": "@jupyter-widgets/base",
      "_model_module_version": "1.2.0",
      "_model_name": "LayoutModel",
      "_view_count": null,
      "_view_module": "@jupyter-widgets/base",
      "_view_module_version": "1.2.0",
      "_view_name": "LayoutView",
      "align_content": null,
      "align_items": null,
      "align_self": null,
      "border": null,
      "bottom": null,
      "display": null,
      "flex": null,
      "flex_flow": null,
      "grid_area": null,
      "grid_auto_columns": null,
      "grid_auto_flow": null,
      "grid_auto_rows": null,
      "grid_column": null,
      "grid_gap": null,
      "grid_row": null,
      "grid_template_areas": null,
      "grid_template_columns": null,
      "grid_template_rows": null,
      "height": null,
      "justify_content": null,
      "justify_items": null,
      "left": null,
      "margin": null,
      "max_height": null,
      "max_width": null,
      "min_height": null,
      "min_width": null,
      "object_fit": null,
      "object_position": null,
      "order": null,
      "overflow": null,
      "overflow_x": null,
      "overflow_y": null,
      "padding": null,
      "right": null,
      "top": null,
      "visibility": null,
      "width": null
     }
    },
    "6f6483e714d344d29f68b4640a329787": {
     "model_module": "@jupyter-widgets/controls",
     "model_module_version": "1.5.0",
     "model_name": "FloatProgressModel",
     "state": {
      "_dom_classes": [],
      "_model_module": "@jupyter-widgets/controls",
      "_model_module_version": "1.5.0",
      "_model_name": "FloatProgressModel",
      "_view_count": null,
      "_view_module": "@jupyter-widgets/controls",
      "_view_module_version": "1.5.0",
      "_view_name": "ProgressView",
      "bar_style": "success",
      "description": "",
      "description_tooltip": null,
      "layout": "IPY_MODEL_c1ac8cc008ec4630b9ce0c93f6295603",
      "max": 1710633285,
      "min": 0,
      "orientation": "horizontal",
      "style": "IPY_MODEL_71229171a929414cbbdf1f53c6ebd7d8",
      "value": 1710633285
     }
    },
    "71229171a929414cbbdf1f53c6ebd7d8": {
     "model_module": "@jupyter-widgets/controls",
     "model_module_version": "1.5.0",
     "model_name": "ProgressStyleModel",
     "state": {
      "_model_module": "@jupyter-widgets/controls",
      "_model_module_version": "1.5.0",
      "_model_name": "ProgressStyleModel",
      "_view_count": null,
      "_view_module": "@jupyter-widgets/base",
      "_view_module_version": "1.2.0",
      "_view_name": "StyleView",
      "bar_color": null,
      "description_width": ""
     }
    },
    "76457e11711c408c88706662ec2a8fe8": {
     "model_module": "@jupyter-widgets/controls",
     "model_module_version": "1.5.0",
     "model_name": "HTMLModel",
     "state": {
      "_dom_classes": [],
      "_model_module": "@jupyter-widgets/controls",
      "_model_module_version": "1.5.0",
      "_model_name": "HTMLModel",
      "_view_count": null,
      "_view_module": "@jupyter-widgets/controls",
      "_view_module_version": "1.5.0",
      "_view_name": "HTMLView",
      "description": "",
      "description_tooltip": null,
      "layout": "IPY_MODEL_2097c8c67c3a4402ae8a9b83b1d45512",
      "placeholder": "​",
      "style": "IPY_MODEL_a484f715f28a48969d88338942d636e3",
      "value": " 1.71G/1.71G [00:16&lt;00:00, 240MB/s]"
     }
    },
    "a484f715f28a48969d88338942d636e3": {
     "model_module": "@jupyter-widgets/controls",
     "model_module_version": "1.5.0",
     "model_name": "DescriptionStyleModel",
     "state": {
      "_model_module": "@jupyter-widgets/controls",
      "_model_module_version": "1.5.0",
      "_model_name": "DescriptionStyleModel",
      "_view_count": null,
      "_view_module": "@jupyter-widgets/base",
      "_view_module_version": "1.2.0",
      "_view_name": "StyleView",
      "description_width": ""
     }
    },
    "bfd487bd32064e6d8653513d4459e029": {
     "model_module": "@jupyter-widgets/controls",
     "model_module_version": "1.5.0",
     "model_name": "HBoxModel",
     "state": {
      "_dom_classes": [],
      "_model_module": "@jupyter-widgets/controls",
      "_model_module_version": "1.5.0",
      "_model_name": "HBoxModel",
      "_view_count": null,
      "_view_module": "@jupyter-widgets/controls",
      "_view_module_version": "1.5.0",
      "_view_name": "HBoxView",
      "box_style": "",
      "children": [
       "IPY_MODEL_2b53710f32004298954a51073ec03277",
       "IPY_MODEL_6f6483e714d344d29f68b4640a329787",
       "IPY_MODEL_76457e11711c408c88706662ec2a8fe8"
      ],
      "layout": "IPY_MODEL_4f31cb7b120e4ffdb26c10e73f51ffce"
     }
    },
    "c1ac8cc008ec4630b9ce0c93f6295603": {
     "model_module": "@jupyter-widgets/base",
     "model_module_version": "1.2.0",
     "model_name": "LayoutModel",
     "state": {
      "_model_module": "@jupyter-widgets/base",
      "_model_module_version": "1.2.0",
      "_model_name": "LayoutModel",
      "_view_count": null,
      "_view_module": "@jupyter-widgets/base",
      "_view_module_version": "1.2.0",
      "_view_name": "LayoutView",
      "align_content": null,
      "align_items": null,
      "align_self": null,
      "border": null,
      "bottom": null,
      "display": null,
      "flex": null,
      "flex_flow": null,
      "grid_area": null,
      "grid_auto_columns": null,
      "grid_auto_flow": null,
      "grid_auto_rows": null,
      "grid_column": null,
      "grid_gap": null,
      "grid_row": null,
      "grid_template_areas": null,
      "grid_template_columns": null,
      "grid_template_rows": null,
      "height": null,
      "justify_content": null,
      "justify_items": null,
      "left": null,
      "margin": null,
      "max_height": null,
      "max_width": null,
      "min_height": null,
      "min_width": null,
      "object_fit": null,
      "object_position": null,
      "order": null,
      "overflow": null,
      "overflow_x": null,
      "overflow_y": null,
      "padding": null,
      "right": null,
      "top": null,
      "visibility": null,
      "width": null
     }
    }
   }
  }
 },
 "nbformat": 4,
 "nbformat_minor": 4
}
